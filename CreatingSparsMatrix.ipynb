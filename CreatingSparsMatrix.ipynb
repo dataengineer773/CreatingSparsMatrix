{
 "cells": [
  {
   "cell_type": "code",
   "execution_count": 1,
   "id": "b032b06b-bb4c-4db7-a743-1b1baaf21fea",
   "metadata": {},
   "outputs": [],
   "source": [
    "# Load libraries\n",
    "import numpy as np\n",
    "from scipy import sparse"
   ]
  },
  {
   "cell_type": "code",
   "execution_count": 2,
   "id": "9f6750f9-bc04-4d4e-8875-1d39ada10319",
   "metadata": {},
   "outputs": [],
   "source": [
    "# Create a matrix\n",
    "matrix = np.array([[0, 0],\n",
    "                   [0, 1],\n",
    "                   [3, 0]])"
   ]
  },
  {
   "cell_type": "code",
   "execution_count": 3,
   "id": "da4191a4-ff2c-446a-b4b5-b2cac4db9b82",
   "metadata": {},
   "outputs": [],
   "source": [
    "# Create compressed sparse row (CSR) matrix\n",
    "matrix_sparse = sparse.csr_matrix(matrix)"
   ]
  },
  {
   "cell_type": "code",
   "execution_count": 4,
   "id": "37febfed-6fdf-4d71-8c6a-8c41b4e63a4e",
   "metadata": {},
   "outputs": [
    {
     "name": "stdout",
     "output_type": "stream",
     "text": [
      "<Compressed Sparse Row sparse matrix of dtype 'int64'\n",
      "\twith 2 stored elements and shape (3, 2)>\n",
      "  Coords\tValues\n",
      "  (1, 1)\t1\n",
      "  (2, 0)\t3\n"
     ]
    }
   ],
   "source": [
    "# View sparse matrix\n",
    "print(matrix_sparse)"
   ]
  },
  {
   "cell_type": "code",
   "execution_count": 5,
   "id": "11af260b-d98b-42c3-b606-6b791b66b16d",
   "metadata": {},
   "outputs": [],
   "source": [
    "# Create larger matrix\n",
    "matrix_large = np.array([[0, 0, 0, 0, 0, 0, 0, 0, 0, 0],\n",
    "                         [0, 1, 0, 0, 0, 0, 0, 0, 0, 0],\n",
    "                         [3, 0, 0, 0, 0, 0, 0, 0, 0, 0]])"
   ]
  },
  {
   "cell_type": "code",
   "execution_count": 6,
   "id": "e08b0b5d-2d46-460c-a9fb-8c88fd721dab",
   "metadata": {},
   "outputs": [],
   "source": [
    "# Create compressed sparse row (CSR) matrix\n",
    "matrix_large_sparse = sparse.csr_matrix(matrix_large)"
   ]
  },
  {
   "cell_type": "code",
   "execution_count": 7,
   "id": "66295cf0-9752-45a0-8252-3243af86047b",
   "metadata": {},
   "outputs": [
    {
     "name": "stdout",
     "output_type": "stream",
     "text": [
      "<Compressed Sparse Row sparse matrix of dtype 'int64'\n",
      "\twith 2 stored elements and shape (3, 2)>\n",
      "  Coords\tValues\n",
      "  (1, 1)\t1\n",
      "  (2, 0)\t3\n"
     ]
    }
   ],
   "source": [
    "# View original sparse matrix\n",
    "print(matrix_sparse)"
   ]
  },
  {
   "cell_type": "code",
   "execution_count": 8,
   "id": "0763fa90-f94d-4464-988e-8ccd59c5e001",
   "metadata": {},
   "outputs": [
    {
     "name": "stdout",
     "output_type": "stream",
     "text": [
      "<Compressed Sparse Row sparse matrix of dtype 'int64'\n",
      "\twith 2 stored elements and shape (3, 10)>\n",
      "  Coords\tValues\n",
      "  (1, 1)\t1\n",
      "  (2, 0)\t3\n"
     ]
    }
   ],
   "source": [
    "# View larger sparse matrix\n",
    "print(matrix_large_sparse)"
   ]
  },
  {
   "cell_type": "code",
   "execution_count": null,
   "id": "b0390398-7fef-481e-8b4a-3bce83a09f6a",
   "metadata": {},
   "outputs": [],
   "source": []
  }
 ],
 "metadata": {
  "kernelspec": {
   "display_name": "Python 3 (ipykernel)",
   "language": "python",
   "name": "python3"
  },
  "language_info": {
   "codemirror_mode": {
    "name": "ipython",
    "version": 3
   },
   "file_extension": ".py",
   "mimetype": "text/x-python",
   "name": "python",
   "nbconvert_exporter": "python",
   "pygments_lexer": "ipython3",
   "version": "3.12.3"
  }
 },
 "nbformat": 4,
 "nbformat_minor": 5
}
